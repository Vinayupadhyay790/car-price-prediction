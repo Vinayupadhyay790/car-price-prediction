{
 "cells": [
  {
   "cell_type": "code",
   "execution_count": null,
   "id": "1afb46ae",
   "metadata": {},
   "outputs": [],
   "source": [
    "import pandas as pd\n",
    "import numpy as np\n",
    "import matplotlib.pyplot as plt\n",
    "import seaborn as sns\n",
    "\n",
    "from sklearn.preprocessing import FunctionTransformer\n",
    "from sklearn.compose import ColumnTransformer\n",
    "from sklearn.preprocessing import OneHotEncoder\n",
    "\n",
    "from sklearn.model_selection import train_test_split\n",
    "from sklearn.linear_model import LinearRegression,Ridge,Lasso\n",
    "from sklearn.metrics import r2_score"
   ]
  },
  {
   "cell_type": "code",
   "execution_count": null,
   "id": "d2ee3eac",
   "metadata": {},
   "outputs": [],
   "source": [
    "car_data = pd.read_csv('car data.csv')"
   ]
  },
  {
   "cell_type": "code",
   "execution_count": 3,
   "id": "7ba8c68e-f9cd-4a5e-847d-208550507047",
   "metadata": {},
   "outputs": [
    {
     "data": {
      "text/plain": [
       "<Axes: xlabel='Kms_Driven', ylabel='Density'>"
      ]
     },
     "execution_count": 3,
     "metadata": {},
     "output_type": "execute_result"
    },
    {
     "data": {
      "image/png": "[encoded data removed]",
      "text/plain": [
       "<Figure size 640x480 with 1 Axes>"
      ]
     },
     "metadata": {},
     "output_type": "display_data"
    }
   ],
   "source": [
    "sns.kdeplot(car_data['Kms_Driven'])"
   ]
  },
  {
   "cell_type": "markdown",
   "id": "d9e5ab57-8775-46db-97c3-469cb9682e9d",
   "metadata": {},
   "source": [
    "1. Function transformer on selling price left skewed.\n",
    "2. KMS_driven is also left skewed\n",
    "3. one hot encoding on fuel type, seller type and transmission"
   ]
  },
  {
   "cell_type": "code",
   "execution_count": 5,
   "id": "6c407e9b-9b63-4dae-85d5-ed0e8c9522e5",
   "metadata": {},
   "outputs": [],
   "source": [
    "X = car_data.drop(['Present_Price'],axis=1)\n",
    "X['Car_Name'] = X['Car_Name'].str.split(' ').str[0]\n",
    "y = car_data['Present_Price']\n",
    "X_train,X_test,y_train,y_test = train_test_split(X,y,test_size=0.1,random_state=42)"
   ]
  },
  {
   "cell_type": "code",
   "execution_count": 6,
   "id": "e7c04be4-a0aa-4e6c-a9e4-d3e0e60de47e",
   "metadata": {},
   "outputs": [
    {
     "data": {
      "text/html": [
       "<div>\n",
       "<style scoped>\n",
       "    .dataframe tbody tr th:only-of-type {\n",
       "        vertical-align: middle;\n",
       "    }\n",
       "\n",
       "    .dataframe tbody tr th {\n",
       "        vertical-align: top;\n",
       "    }\n",
       "\n",
       "    .dataframe thead th {\n",
       "        text-align: right;\n",
       "    }\n",
       "</style>\n",
       "<table border=\"1\" class=\"dataframe\">\n",
       "  <thead>\n",
       "    <tr style=\"text-align: right;\">\n",
       "      <th></th>\n",
       "      <th>Car_Name</th>\n",
       "      <th>Year</th>\n",
       "      <th>Selling_Price</th>\n",
       "      <th>Kms_Driven</th>\n",
       "      <th>Fuel_Type</th>\n",
       "      <th>Seller_Type</th>\n",
       "      <th>Transmission</th>\n",
       "      <th>Owner</th>\n",
       "    </tr>\n",
       "  </thead>\n",
       "  <tbody>\n",
       "    <tr>\n",
       "      <th>282</th>\n",
       "      <td>city</td>\n",
       "      <td>2014</td>\n",
       "      <td>8.25</td>\n",
       "      <td>63000</td>\n",
       "      <td>Diesel</td>\n",
       "      <td>Dealer</td>\n",
       "      <td>Manual</td>\n",
       "      <td>0</td>\n",
       "    </tr>\n",
       "    <tr>\n",
       "      <th>163</th>\n",
       "      <td>Bajaj</td>\n",
       "      <td>2010</td>\n",
       "      <td>0.45</td>\n",
       "      <td>27000</td>\n",
       "      <td>Petrol</td>\n",
       "      <td>Individual</td>\n",
       "      <td>Manual</td>\n",
       "      <td>0</td>\n",
       "    </tr>\n",
       "    <tr>\n",
       "      <th>42</th>\n",
       "      <td>sx4</td>\n",
       "      <td>2008</td>\n",
       "      <td>1.95</td>\n",
       "      <td>58000</td>\n",
       "      <td>Petrol</td>\n",
       "      <td>Dealer</td>\n",
       "      <td>Manual</td>\n",
       "      <td>0</td>\n",
       "    </tr>\n",
       "    <tr>\n",
       "      <th>17</th>\n",
       "      <td>ertiga</td>\n",
       "      <td>2016</td>\n",
       "      <td>7.75</td>\n",
       "      <td>43000</td>\n",
       "      <td>Diesel</td>\n",
       "      <td>Dealer</td>\n",
       "      <td>Manual</td>\n",
       "      <td>0</td>\n",
       "    </tr>\n",
       "    <tr>\n",
       "      <th>266</th>\n",
       "      <td>amaze</td>\n",
       "      <td>2014</td>\n",
       "      <td>3.65</td>\n",
       "      <td>35000</td>\n",
       "      <td>Petrol</td>\n",
       "      <td>Dealer</td>\n",
       "      <td>Manual</td>\n",
       "      <td>0</td>\n",
       "    </tr>\n",
       "    <tr>\n",
       "      <th>...</th>\n",
       "      <td>...</td>\n",
       "      <td>...</td>\n",
       "      <td>...</td>\n",
       "      <td>...</td>\n",
       "      <td>...</td>\n",
       "      <td>...</td>\n",
       "      <td>...</td>\n",
       "      <td>...</td>\n",
       "    </tr>\n",
       "    <tr>\n",
       "      <th>188</th>\n",
       "      <td>Hero</td>\n",
       "      <td>2013</td>\n",
       "      <td>0.25</td>\n",
       "      <td>18000</td>\n",
       "      <td>Petrol</td>\n",
       "      <td>Individual</td>\n",
       "      <td>Manual</td>\n",
       "      <td>0</td>\n",
       "    </tr>\n",
       "    <tr>\n",
       "      <th>71</th>\n",
       "      <td>corolla</td>\n",
       "      <td>2011</td>\n",
       "      <td>4.50</td>\n",
       "      <td>45000</td>\n",
       "      <td>Diesel</td>\n",
       "      <td>Dealer</td>\n",
       "      <td>Manual</td>\n",
       "      <td>0</td>\n",
       "    </tr>\n",
       "    <tr>\n",
       "      <th>106</th>\n",
       "      <td>Hyosung</td>\n",
       "      <td>2014</td>\n",
       "      <td>1.35</td>\n",
       "      <td>16500</td>\n",
       "      <td>Petrol</td>\n",
       "      <td>Individual</td>\n",
       "      <td>Manual</td>\n",
       "      <td>1</td>\n",
       "    </tr>\n",
       "    <tr>\n",
       "      <th>270</th>\n",
       "      <td>city</td>\n",
       "      <td>2011</td>\n",
       "      <td>4.10</td>\n",
       "      <td>69341</td>\n",
       "      <td>Petrol</td>\n",
       "      <td>Dealer</td>\n",
       "      <td>Manual</td>\n",
       "      <td>0</td>\n",
       "    </tr>\n",
       "    <tr>\n",
       "      <th>102</th>\n",
       "      <td>KTM</td>\n",
       "      <td>2017</td>\n",
       "      <td>1.65</td>\n",
       "      <td>4000</td>\n",
       "      <td>Petrol</td>\n",
       "      <td>Individual</td>\n",
       "      <td>Manual</td>\n",
       "      <td>0</td>\n",
       "    </tr>\n",
       "  </tbody>\n",
       "</table>\n",
       "<p>270 rows × 8 columns</p>\n",
       "</div>"
      ],
      "text/plain": [
       "    Car_Name  Year  Selling_Price  Kms_Driven Fuel_Type Seller_Type  \\\n",
       "282     city  2014           8.25       63000    Diesel      Dealer   \n",
       "163    Bajaj  2010           0.45       27000    Petrol  Individual   \n",
       "42       sx4  2008           1.95       58000    Petrol      Dealer   \n",
       "17    ertiga  2016           7.75       43000    Diesel      Dealer   \n",
       "266    amaze  2014           3.65       35000    Petrol      Dealer   \n",
       "..       ...   ...            ...         ...       ...         ...   \n",
       "188     Hero  2013           0.25       18000    Petrol  Individual   \n",
       "71   corolla  2011           4.50       45000    Diesel      Dealer   \n",
       "106  Hyosung  2014           1.35       16500    Petrol  Individual   \n",
       "270     city  2011           4.10       69341    Petrol      Dealer   \n",
       "102      KTM  2017           1.65        4000    Petrol  Individual   \n",
       "\n",
       "    Transmission  Owner  \n",
       "282       Manual      0  \n",
       "163       Manual      0  \n",
       "42        Manual      0  \n",
       "17        Manual      0  \n",
       "266       Manual      0  \n",
       "..           ...    ...  \n",
       "188       Manual      0  \n",
       "71        Manual      0  \n",
       "106       Manual      1  \n",
       "270       Manual      0  \n",
       "102       Manual      0  \n",
       "\n",
       "[270 rows x 8 columns]"
      ]
     },
     "execution_count": 6,
     "metadata": {},
     "output_type": "execute_result"
    }
   ],
   "source": [
    "X_train"
   ]
  },
  {
   "cell_type": "code",
   "execution_count": 7,
   "id": "4eb37543-35c1-44e6-bf28-20531e1dc347",
   "metadata": {},
   "outputs": [],
   "source": [
    "transform = [('function',FunctionTransformer(np.square),[2,3]),('ohe',OneHotEncoder(drop='first',sparse_output=False,handle_unknown='ignore'),[0,4,5,6])]\n",
    "trf = ColumnTransformer(transformers=transform,remainder='passthrough')"
   ]
  },
  {
   "cell_type": "code",
   "execution_count": 8,
   "id": "10ac8e67-b468-4b45-a6cb-9c725a3889d1",
   "metadata": {},
   "outputs": [
    {
     "name": "stderr",
     "output_type": "stream",
     "text": [
      "C:\\Users\\upadh\\AppData\\Roaming\\Python\\Python312\\site-packages\\sklearn\\preprocessing\\_encoders.py:242: UserWarning: Found unknown categories in columns [0] during transform. These unknown categories will be encoded as all zeros\n",
      "  warnings.warn(\n"
     ]
    }
   ],
   "source": [
    "X_train_trf = trf.fit_transform(X_train)\n",
    "X_test_trf = trf.transform(X_test)"
   ]
  },
  {
   "cell_type": "code",
   "execution_count": 9,
   "id": "8d3a0f45-287e-4c2a-b204-bd18d36c5a0c",
   "metadata": {},
   "outputs": [
    {
     "name": "stdout",
     "output_type": "stream",
     "text": [
      "Linear regression accuracy is:  0.9441303548600695\n"
     ]
    }
   ],
   "source": [
    "lr = LinearRegression()\n",
    "lr.fit(X_train_trf,y_train)\n",
    "lr_pred = lr.predict(X_test_trf)\n",
    "print('Linear regression accuracy is: ',r2_score(lr_pred,y_test))"
   ]
  },
  {
   "cell_type": "code",
   "execution_count": 2,
   "id": "9d9acd46",
   "metadata": {},
   "outputs": [
    {
     "name": "stdout",
     "output_type": "stream",
     "text": [
      "ridge accuracy is:  0.9483195328303822\n"
     ]
    }
   ],
   "source": [
    "ridge = Ridge(alpha=0.1,max_iter=100)\n",
    "ridge.fit(X_train_trf,y_train)\n",
    "ridge_predict = ridge.predict(X_test_trf)\n",
    "print('ridge accuracy is: ',r2_score(y_test,ridge_predict))"
   ]
  },
  {
   "cell_type": "code",
   "execution_count": 3,
   "id": "3f1b1745",
   "metadata": {},
   "outputs": [
    {
     "name": "stdout",
     "output_type": "stream",
     "text": [
      "lasso accuracy is:  0.9541029995286051\n"
     ]
    }
   ],
   "source": [
    "lasso = Lasso(alpha=0.01,max_iter=100)\n",
    "lasso.fit(X_train_trf,y_train)\n",
    "lasso_predict = lasso.predict(X_test_trf)\n",
    "print('lasso accuracy is: ',r2_score(y_test,lasso_predict))"
   ]
  }
 ],
 "metadata": {
  "kernelspec": {
   "display_name": "Python 3",
   "language": "python",
   "name": "python3"
  },
  "language_info": {
   "codemirror_mode": {
    "name": "ipython",
    "version": 3
   },
   "file_extension": ".py",
   "mimetype": "text/x-python",
   "name": "python",
   "nbconvert_exporter": "python",
   "pygments_lexer": "ipython3",
   "version": "3.12.4"
  }
 },
 "nbformat": 4,
 "nbformat_minor": 5
}
